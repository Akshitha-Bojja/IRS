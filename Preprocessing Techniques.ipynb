{
  "nbformat": 4,
  "nbformat_minor": 0,
  "metadata": {
    "colab": {
      "provenance": [],
      "authorship_tag": "ABX9TyOgpMdoHmfOMqo+TK4iT47w",
      "include_colab_link": true
    },
    "kernelspec": {
      "name": "python3",
      "display_name": "Python 3"
    },
    "language_info": {
      "name": "python"
    }
  },
  "cells": [
    {
      "cell_type": "markdown",
      "metadata": {
        "id": "view-in-github",
        "colab_type": "text"
      },
      "source": [
        "<a href=\"https://colab.research.google.com/github/Akshitha-Bojja/IRS/blob/main/Preprocessing%20Techniques.ipynb\" target=\"_parent\"><img src=\"https://colab.research.google.com/assets/colab-badge.svg\" alt=\"Open In Colab\"/></a>"
      ]
    },
    {
      "cell_type": "markdown",
      "source": [
        "Lowercasing text"
      ],
      "metadata": {
        "id": "pNqHXYBhC42T"
      }
    },
    {
      "cell_type": "code",
      "source": [
        "def lowercase_text(text):\n",
        " return text.lower()\n",
        "text = ' AKSHITHA , DEEPU , PUSHKARA .\\nARE pursuing post-graduation from SR UNIVERSITY.'\n",
        "print(lowercase_text(text))"
      ],
      "metadata": {
        "colab": {
          "base_uri": "https://localhost:8080/"
        },
        "id": "wr_wclBoC6Kg",
        "outputId": "00173a80-550b-4901-c0c6-0126ea852bf3"
      },
      "execution_count": 1,
      "outputs": [
        {
          "output_type": "stream",
          "name": "stdout",
          "text": [
            " akshitha , deepu , pushkara .\n",
            "are pursuing post-graduation from sr university.\n"
          ]
        }
      ]
    },
    {
      "cell_type": "markdown",
      "source": [
        "   Removing punctuation"
      ],
      "metadata": {
        "id": "5CkEhJIVDohP"
      }
    },
    {
      "cell_type": "code",
      "source": [
        "import string\n",
        "PUNCT_TO_REMOVE = string.punctuation\n",
        "def remove_punctuation(text):\n",
        " return ' '.join(text.translate(str.maketrans('', '', PUNCT_TO_REMOVE)).split())\n",
        "text = \"I'm having a lot of punctuations!!.@@@@@ All special characters will be removed *&&&\" ;\n",
        "print(remove_punctuation(text))\n"
      ],
      "metadata": {
        "colab": {
          "base_uri": "https://localhost:8080/"
        },
        "id": "JtLm-740EAjJ",
        "outputId": "0d7d6baf-18d7-413c-eadc-a555540db309"
      },
      "execution_count": 6,
      "outputs": [
        {
          "output_type": "stream",
          "name": "stdout",
          "text": [
            "Im having a lot of punctuations All special characters will be removed\n"
          ]
        }
      ]
    },
    {
      "cell_type": "markdown",
      "source": [
        " Eliminating stopwords"
      ],
      "metadata": {
        "id": "6yppVVLWFH9W"
      }
    },
    {
      "cell_type": "code",
      "source": [
        "import nltk\n",
        "nltk.download('stopwords')\n",
        "from nltk.corpus import stopwords\n",
        "stoplist = stopwords.words('english')\n",
        "text = '''\n",
        "The rose is a beautiful flower\n",
        "'''\n",
        "print(\"\\nOriginal string:\")\n",
        "print(text)\n",
        "clean_word_list = [word for word in text.split() if word not in stoplist]\n",
        "print(\"\\nAfter removing stop words from the said text:\")\n",
        "print(clean_word_list)\n"
      ],
      "metadata": {
        "colab": {
          "base_uri": "https://localhost:8080/"
        },
        "id": "wI2riisbFJr-",
        "outputId": "772dd5aa-ff77-4b06-bddb-977556d8f7f2"
      },
      "execution_count": 7,
      "outputs": [
        {
          "output_type": "stream",
          "name": "stdout",
          "text": [
            "\n",
            "Original string:\n",
            "\n",
            "The rose is a beautiful flower\n",
            "\n",
            "\n",
            "After removing stop words from the said text:\n",
            "['The', 'rose', 'beautiful', 'flower']\n"
          ]
        },
        {
          "output_type": "stream",
          "name": "stderr",
          "text": [
            "[nltk_data] Downloading package stopwords to /root/nltk_data...\n",
            "[nltk_data]   Unzipping corpora/stopwords.zip.\n"
          ]
        }
      ]
    }
  ]
}