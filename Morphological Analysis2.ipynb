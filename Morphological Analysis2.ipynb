{
  "nbformat": 4,
  "nbformat_minor": 0,
  "metadata": {
    "colab": {
      "provenance": [],
      "authorship_tag": "ABX9TyPFCxZ48GEOyWEBH1qmwhMB",
      "include_colab_link": true
    },
    "kernelspec": {
      "name": "python3",
      "display_name": "Python 3"
    },
    "language_info": {
      "name": "python"
    }
  },
  "cells": [
    {
      "cell_type": "markdown",
      "metadata": {
        "id": "view-in-github",
        "colab_type": "text"
      },
      "source": [
        "<a href=\"https://colab.research.google.com/github/Akshitha-Bojja/IRS/blob/main/Morphological%20Analysis2.ipynb\" target=\"_parent\"><img src=\"https://colab.research.google.com/assets/colab-badge.svg\" alt=\"Open In Colab\"/></a>"
      ]
    },
    {
      "cell_type": "code",
      "execution_count": 1,
      "metadata": {
        "colab": {
          "base_uri": "https://localhost:8080/"
        },
        "id": "mpDrrUirnzgo",
        "outputId": "ac0ec542-b786-403a-e181-d3ea20759a23"
      },
      "outputs": [
        {
          "output_type": "stream",
          "name": "stderr",
          "text": [
            "[nltk_data] Downloading package wordnet to /root/nltk_data...\n",
            "[nltk_data] Downloading package omw-1.4 to /root/nltk_data...\n"
          ]
        },
        {
          "output_type": "stream",
          "name": "stdout",
          "text": [
            "Word: running\n",
            "  Stemmed: run\n",
            "  Lemmatized: running\n",
            "  Prefix: ru\n",
            "  Suffix: ng\n",
            "  POS: VERB\n",
            "  Morphological Features: Aspect=Prog|Tense=Pres|VerbForm=Part\n",
            "\n",
            "Word: unhappiness\n",
            "  Stemmed: unhappi\n",
            "  Lemmatized: unhappiness\n",
            "  Prefix: un\n",
            "  Suffix: ss\n",
            "  POS: NOUN\n",
            "  Morphological Features: Number=Sing\n",
            "\n",
            "Word: replaying\n",
            "  Stemmed: replay\n",
            "  Lemmatized: replaying\n",
            "  Prefix: re\n",
            "  Suffix: ng\n",
            "  POS: VERB\n",
            "  Morphological Features: Aspect=Prog|Tense=Pres|VerbForm=Part\n",
            "\n",
            "Word: misunderstanding\n",
            "  Stemmed: misunderstand\n",
            "  Lemmatized: misunderstanding\n",
            "  Prefix: mi\n",
            "  Suffix: ng\n",
            "  POS: VERB\n",
            "  Morphological Features: Aspect=Prog|Tense=Pres|VerbForm=Part\n",
            "\n"
          ]
        }
      ],
      "source": [
        "import nltk\n",
        "from nltk.stem import PorterStemmer, WordNetLemmatizer\n",
        "import spacy\n",
        "\n",
        "def morphological_analysis(words):\n",
        "    nltk.download(\"wordnet\")\n",
        "    nltk.download(\"omw-1.4\")\n",
        "\n",
        "    stemmer = PorterStemmer()\n",
        "    lemmatizer = WordNetLemmatizer()\n",
        "\n",
        "    nlp = spacy.load(\"en_core_web_sm\")\n",
        "\n",
        "    results = {}\n",
        "    for word in words:\n",
        "        stemmed = stemmer.stem(word)\n",
        "        lemmatized = lemmatizer.lemmatize(word)\n",
        "\n",
        "        doc = nlp(word)\n",
        "        for token in doc:\n",
        "            prefix = token.text[:2]\n",
        "            suffix = token.text[-2:]\n",
        "\n",
        "            results[word] = {\n",
        "                \"Stemmed\": stemmed,\n",
        "                \"Lemmatized\": lemmatized,\n",
        "                \"Prefix\": prefix,\n",
        "                \"Suffix\": suffix,\n",
        "                \"POS\": token.pos_,\n",
        "                \"Morphological Features\": token.morph\n",
        "            }\n",
        "\n",
        "    return results\n",
        "\n",
        "words = [\"running\", \"unhappiness\", \"replaying\", \"misunderstanding\"]\n",
        "output = morphological_analysis(words)\n",
        "for word, analysis in output.items():\n",
        "    print(f\"Word: {word}\")\n",
        "    for key, value in analysis.items():\n",
        "        print(f\"  {key}: {value}\")\n",
        "    print()"
      ]
    }
  ]
}